{
 "cells": [
  {
   "cell_type": "markdown",
   "metadata": {
    "colab": {
     "base_uri": "https://localhost:8080/"
    },
    "id": "zinlfmpQ_F9d",
    "outputId": "07ad6ed8-8fa6-4b57-e213-270ba798eb0c"
   },
   "source": [
    "# <font color='darkblue'>Import Important Libraries</font>"
   ]
  },
  {
   "cell_type": "code",
   "execution_count": 1,
   "metadata": {},
   "outputs": [],
   "source": [
    "import pandas as pd\n",
    "import numpy as np\n",
    "import re\n",
    "import nltk\n",
    "from nltk.tokenize import word_tokenize\n",
    "from nltk import pos_tag\n",
    "from nltk.corpus import wordnet as wn\n",
    "from sklearn.feature_extraction.text import TfidfVectorizer\n",
    "from nltk.stem import SnowballStemmer\n",
    "from sklearn.feature_extraction.text import TfidfVectorizer"
   ]
  },
  {
   "cell_type": "code",
   "execution_count": 2,
   "metadata": {},
   "outputs": [],
   "source": [
    "# nltk.download('wordnet')\n",
    "# nltk.download('omw-1.4')\n",
    "# nltk.download('punkt')\n",
    "#nltk.download('averaged_perceptron_tagger')"
   ]
  },
  {
   "cell_type": "markdown",
   "metadata": {},
   "source": [
    "# <font color='darkblue'>Read The Data</font>"
   ]
  },
  {
   "cell_type": "code",
   "execution_count": 3,
   "metadata": {
    "id": "Wpp6v43s_WrJ"
   },
   "outputs": [],
   "source": [
    "NewsData = pd.read_json('./husna.json')"
   ]
  },
  {
   "cell_type": "code",
   "execution_count": 4,
   "metadata": {},
   "outputs": [],
   "source": [
    "NewsData.drop(['publisher', 'published_at', 'article_type', 'crawled_at', 'summary', '_id'], axis=1, inplace=True)"
   ]
  },
  {
   "cell_type": "markdown",
   "metadata": {},
   "source": [
    "# <font color='darkblue'>Remve Null</font>"
   ]
  },
  {
   "cell_type": "code",
   "execution_count": 5,
   "metadata": {},
   "outputs": [],
   "source": [
    "NewsData.content = NewsData.content.apply(lambda x: np.nan if len(x)==0 else x)\n",
    "NewsData.title = NewsData.title.apply(lambda x: np.nan if len(x)==0 else x)\n",
    "NewsData.tags = NewsData.tags.apply(lambda x: np.nan if len(x)==0 else x)\n",
    "NewsData.url = NewsData.url.apply(lambda x: np.nan if len(x)==0 else x)"
   ]
  },
  {
   "cell_type": "code",
   "execution_count": 6,
   "metadata": {},
   "outputs": [],
   "source": [
    "NewsData.dropna(inplace=True)"
   ]
  },
  {
   "cell_type": "code",
   "execution_count": 7,
   "metadata": {},
   "outputs": [
    {
     "data": {
      "text/plain": [
       "['كشفت أمين عام وزارة التربية والتعليم للشؤون المالية والإدارية الدكتورة نجوى القبيلات بأن مجلس الوزراء طلب منا السيناريوهات المقترحة في حال تثبيت التوقيت الصيفي طوال العام، وقدمت الوزارة تلك السيناريوهات.',\n",
       " 'وشرحت القبيلات لـ  حسنى  اليوم طبيعة الدوام خلال الفترة المقبلة، بعد قرار مجلس الوزراء يوم أمس تثبيت التوقيت الصيفي طوال العام، حيث يبدأ دوام المدارس بالتوقيت الجديد يوم الأحد الموافق 30/10/2022، وينتهي يوم الأحد الموافق 2/4/2022.',\n",
       " 'يبدأ الطابور الصباحي في مدارس الفترة الواحدة والبالغ نسبتها 80%، الساعة 8:15، وتبدأ الحصّة الأولى الساعة 8:30، ومدّة الحصة 45 دقيقة، وينتهي الدوام بانتهاء الحصص حسب الصفوف، وفقاً للقبيلات.',\n",
       " 'فيما يبدأ الطابور الصباحي في مدارس الفترتين، الساعة 8:15، وتبدأ الحصّة الأولى الساعة 8:30، وتم تخفيض الحصّة لتصبح 35 دقيقة فقط، وينتهي دوام الفترة الأولى الساعة 1:10، وينتهي الدوام في الفترة الثانية المسائية الساعة 5:20 قبل غروب الشمس، وسيتم فتح أبواب المدارس الساعة 7:45 لاستقبال الطلبة، علما بأن عدد المدارس على نظام الفترتين الدراسيتين، (882) مدرسة.',\n",
       " 'فيما نوهت القبيلات إلى وجود فترة امتحانات في شهر كانون الأول/ ديسمبر المقبل، حيث يبدأ الامتحان الساعة التاسعة أو العاشرة ولمدّة ساعتين فقط وذلك حسب دوام الفترات وسيكون أغلب الطلبة في منازلهم بوقت الظهيرة، ثمّ تبدأ العطلة شتوية التي تمتد من 28/12/2022 حتى 7/2/2022.',\n",
       " 'وكان مجلس الوزراء قرر في جلسته التي عقدها أمس الأربعاء تثبيت العمل بـ التوقيت الصيفي طوال العام، \"حيث جاء القرار بعد دراسة مستفيضة أجرتها الحكومة للوقوف على جدوى تثبيت التوقيت الصيفي\"،وفق ما جاء في القرار، الأمر الذي أدى إلى تعديل دوام المدارس في الفترة الصباحية والفترتين، حيث تم الطلب من وزارتي التربية والتعليم والتعليم العالي تعديل دوامهم بما يتناسب ومواعيد شروق الشمس.']"
      ]
     },
     "execution_count": 7,
     "metadata": {},
     "output_type": "execute_result"
    }
   ],
   "source": [
    "NewsData.content[3]"
   ]
  },
  {
   "cell_type": "markdown",
   "metadata": {},
   "source": [
    "# <font color='darkblue'>Remove Punctuation</font>"
   ]
  },
  {
   "cell_type": "code",
   "execution_count": 8,
   "metadata": {},
   "outputs": [],
   "source": [
    "Punctuations = '[!\"#$%&\\'()*+,-./:;<=>?@[\\\\]^_`{|}~،٪\\\\’’؟.]'"
   ]
  },
  {
   "cell_type": "code",
   "execution_count": 9,
   "metadata": {},
   "outputs": [],
   "source": [
    "def remove_punctuations(text):\n",
    "    text = str(text)\n",
    "    for punctuation in Punctuations:\n",
    "        text = text.replace(punctuation, ' ')\n",
    "    return text"
   ]
  },
  {
   "cell_type": "code",
   "execution_count": 10,
   "metadata": {},
   "outputs": [],
   "source": [
    "NewsData[\"content\"] = NewsData[\"content\"].apply(lambda x: remove_punctuations(x))"
   ]
  },
  {
   "cell_type": "code",
   "execution_count": 11,
   "metadata": {},
   "outputs": [
    {
     "data": {
      "text/plain": [
       "'  كشفت أمين عام وزارة التربية والتعليم للشؤون المالية والإدارية الدكتورة نجوى القبيلات بأن مجلس الوزراء طلب منا السيناريوهات المقترحة في حال تثبيت التوقيت الصيفي طوال العام  وقدمت الوزارة تلك السيناريوهات     وشرحت القبيلات لـ  حسنى  اليوم طبيعة الدوام خلال الفترة المقبلة  بعد قرار مجلس الوزراء يوم أمس تثبيت التوقيت الصيفي طوال العام  حيث يبدأ دوام المدارس بالتوقيت الجديد يوم الأحد الموافق 30 10 2022  وينتهي يوم الأحد الموافق 2 4 2022     يبدأ الطابور الصباحي في مدارس الفترة الواحدة والبالغ نسبتها 80   الساعة 8 15  وتبدأ الحصّة الأولى الساعة 8 30  ومدّة الحصة 45 دقيقة  وينتهي الدوام بانتهاء الحصص حسب الصفوف  وفقاً للقبيلات     فيما يبدأ الطابور الصباحي في مدارس الفترتين  الساعة 8 15  وتبدأ الحصّة الأولى الساعة 8 30  وتم تخفيض الحصّة لتصبح 35 دقيقة فقط  وينتهي دوام الفترة الأولى الساعة 1 10  وينتهي الدوام في الفترة الثانية المسائية الساعة 5 20 قبل غروب الشمس  وسيتم فتح أبواب المدارس الساعة 7 45 لاستقبال الطلبة  علما بأن عدد المدارس على نظام الفترتين الدراسيتين   882  مدرسة     فيما نوهت القبيلات إلى وجود فترة امتحانات في شهر كانون الأول  ديسمبر المقبل  حيث يبدأ الامتحان الساعة التاسعة أو العاشرة ولمدّة ساعتين فقط وذلك حسب دوام الفترات وسيكون أغلب الطلبة في منازلهم بوقت الظهيرة  ثمّ تبدأ العطلة شتوية التي تمتد من 28 12 2022 حتى 7 2 2022     وكان مجلس الوزراء قرر في جلسته التي عقدها أمس الأربعاء تثبيت العمل بـ التوقيت الصيفي طوال العام   حيث جاء القرار بعد دراسة مستفيضة أجرتها الحكومة للوقوف على جدوى تثبيت التوقيت الصيفي  وفق ما جاء في القرار  الأمر الذي أدى إلى تعديل دوام المدارس في الفترة الصباحية والفترتين  حيث تم الطلب من وزارتي التربية والتعليم والتعليم العالي تعديل دوامهم بما يتناسب ومواعيد شروق الشمس   '"
      ]
     },
     "execution_count": 11,
     "metadata": {},
     "output_type": "execute_result"
    }
   ],
   "source": [
    "NewsData['content'][3]"
   ]
  },
  {
   "cell_type": "markdown",
   "metadata": {},
   "source": [
    "# <font color='darkblue'>Remove Non Arabic</font>"
   ]
  },
  {
   "cell_type": "code",
   "execution_count": 12,
   "metadata": {},
   "outputs": [],
   "source": [
    "Arabic = open(\"./Arabic.txt\", \"r\")\n",
    "ArabicLetters = Arabic.read()\n",
    "ArabicLetters = ArabicLetters.replace('\\n', ' ')"
   ]
  },
  {
   "cell_type": "code",
   "execution_count": 13,
   "metadata": {},
   "outputs": [],
   "source": [
    "def remove_non_arabic(data):\n",
    "    arabic_letter = \"\"\n",
    "    for word in data:\n",
    "        if word in ArabicLetters :\n",
    "            arabic_letter = arabic_letter +word \n",
    "    return arabic_letter"
   ]
  },
  {
   "cell_type": "code",
   "execution_count": 14,
   "metadata": {},
   "outputs": [],
   "source": [
    "NewsData['content'] = NewsData['content'].apply(lambda x:remove_non_arabic(x))"
   ]
  },
  {
   "cell_type": "code",
   "execution_count": 15,
   "metadata": {},
   "outputs": [
    {
     "data": {
      "text/plain": [
       "'  كشفت أمين عام وزارة التربية والتعليم للشؤون المالية والإدارية الدكتورة نجوى القبيلات بأن مجلس الوزراء طلب منا السيناريوهات المقترحة في حال تثبيت التوقيت الصيفي طوال العام  وقدمت الوزارة تلك السيناريوهات     وشرحت القبيلات لـ  حسنى  اليوم طبيعة الدوام خلال الفترة المقبلة  بعد قرار مجلس الوزراء يوم أمس تثبيت التوقيت الصيفي طوال العام  حيث يبدأ دوام المدارس بالتوقيت الجديد يوم الأحد الموافق     وينتهي يوم الأحد الموافق        يبدأ الطابور الصباحي في مدارس الفترة الواحدة والبالغ نسبتها    الساعة    وتبدأ الحصة الأولى الساعة    ومدة الحصة  دقيقة  وينتهي الدوام بانتهاء الحصص حسب الصفوف  وفقا للقبيلات     فيما يبدأ الطابور الصباحي في مدارس الفترتين  الساعة    وتبدأ الحصة الأولى الساعة    وتم تخفيض الحصة لتصبح  دقيقة فقط  وينتهي دوام الفترة الأولى الساعة    وينتهي الدوام في الفترة الثانية المسائية الساعة   قبل غروب الشمس  وسيتم فتح أبواب المدارس الساعة   لاستقبال الطلبة  علما بأن عدد المدارس على نظام الفترتين الدراسيتين     مدرسة     فيما نوهت القبيلات إلى وجود فترة امتحانات في شهر كانون الأول  ديسمبر المقبل  حيث يبدأ الامتحان الساعة التاسعة أو العاشرة ولمدة ساعتين فقط وذلك حسب دوام الفترات وسيكون أغلب الطلبة في منازلهم بوقت الظهيرة  ثم تبدأ العطلة شتوية التي تمتد من    حتى        وكان مجلس الوزراء قرر في جلسته التي عقدها أمس الأربعاء تثبيت العمل بـ التوقيت الصيفي طوال العام   حيث جاء القرار بعد دراسة مستفيضة أجرتها الحكومة للوقوف على جدوى تثبيت التوقيت الصيفي  وفق ما جاء في القرار  الأمر الذي أدى إلى تعديل دوام المدارس في الفترة الصباحية والفترتين  حيث تم الطلب من وزارتي التربية والتعليم والتعليم العالي تعديل دوامهم بما يتناسب ومواعيد شروق الشمس   '"
      ]
     },
     "execution_count": 15,
     "metadata": {},
     "output_type": "execute_result"
    }
   ],
   "source": [
    "NewsData['content'][3]"
   ]
  },
  {
   "cell_type": "markdown",
   "metadata": {},
   "source": [
    "# <font color='darkblue'>Remove Unnecessary Spaces</font> "
   ]
  },
  {
   "cell_type": "code",
   "execution_count": 16,
   "metadata": {},
   "outputs": [],
   "source": [
    "def removeUnnecessarySpaces(text):\n",
    "    No_Unnecessary_Spaces = re.sub(r'[\\n\\t\\s ]+', ' ', text)\n",
    "    return No_Unnecessary_Spaces"
   ]
  },
  {
   "cell_type": "code",
   "execution_count": 17,
   "metadata": {},
   "outputs": [],
   "source": [
    "NewsData['content'] = NewsData['content'].apply(lambda x:removeUnnecessarySpaces(x))"
   ]
  },
  {
   "cell_type": "code",
   "execution_count": 18,
   "metadata": {},
   "outputs": [
    {
     "data": {
      "text/plain": [
       "' كشفت أمين عام وزارة التربية والتعليم للشؤون المالية والإدارية الدكتورة نجوى القبيلات بأن مجلس الوزراء طلب منا السيناريوهات المقترحة في حال تثبيت التوقيت الصيفي طوال العام وقدمت الوزارة تلك السيناريوهات وشرحت القبيلات لـ حسنى اليوم طبيعة الدوام خلال الفترة المقبلة بعد قرار مجلس الوزراء يوم أمس تثبيت التوقيت الصيفي طوال العام حيث يبدأ دوام المدارس بالتوقيت الجديد يوم الأحد الموافق وينتهي يوم الأحد الموافق يبدأ الطابور الصباحي في مدارس الفترة الواحدة والبالغ نسبتها الساعة وتبدأ الحصة الأولى الساعة ومدة الحصة دقيقة وينتهي الدوام بانتهاء الحصص حسب الصفوف وفقا للقبيلات فيما يبدأ الطابور الصباحي في مدارس الفترتين الساعة وتبدأ الحصة الأولى الساعة وتم تخفيض الحصة لتصبح دقيقة فقط وينتهي دوام الفترة الأولى الساعة وينتهي الدوام في الفترة الثانية المسائية الساعة قبل غروب الشمس وسيتم فتح أبواب المدارس الساعة لاستقبال الطلبة علما بأن عدد المدارس على نظام الفترتين الدراسيتين مدرسة فيما نوهت القبيلات إلى وجود فترة امتحانات في شهر كانون الأول ديسمبر المقبل حيث يبدأ الامتحان الساعة التاسعة أو العاشرة ولمدة ساعتين فقط وذلك حسب دوام الفترات وسيكون أغلب الطلبة في منازلهم بوقت الظهيرة ثم تبدأ العطلة شتوية التي تمتد من حتى وكان مجلس الوزراء قرر في جلسته التي عقدها أمس الأربعاء تثبيت العمل بـ التوقيت الصيفي طوال العام حيث جاء القرار بعد دراسة مستفيضة أجرتها الحكومة للوقوف على جدوى تثبيت التوقيت الصيفي وفق ما جاء في القرار الأمر الذي أدى إلى تعديل دوام المدارس في الفترة الصباحية والفترتين حيث تم الطلب من وزارتي التربية والتعليم والتعليم العالي تعديل دوامهم بما يتناسب ومواعيد شروق الشمس '"
      ]
     },
     "execution_count": 18,
     "metadata": {},
     "output_type": "execute_result"
    }
   ],
   "source": [
    "NewsData['content'][3]"
   ]
  },
  {
   "cell_type": "code",
   "execution_count": 19,
   "metadata": {
    "id": "MqAt8RxJDLYm"
   },
   "outputs": [],
   "source": [
    "NewsData = NewsData.reset_index()\n"
   ]
  },
  {
   "cell_type": "markdown",
   "metadata": {},
   "source": [
    "# <font color='darkblue'>Word Tokenizer</font> "
   ]
  },
  {
   "cell_type": "code",
   "execution_count": 20,
   "metadata": {
    "id": "O5hs36TK_heg"
   },
   "outputs": [],
   "source": [
    "NewsData['Word tokenize'] = NewsData.content.apply(word_tokenize)"
   ]
  },
  {
   "cell_type": "markdown",
   "metadata": {},
   "source": [
    "# <font color='darkblue'>Remove Stopwords</font> "
   ]
  },
  {
   "cell_type": "code",
   "execution_count": 21,
   "metadata": {},
   "outputs": [],
   "source": [
    "StopWord = open(\"./StopWords.txt\", \"r\")\n",
    "StopWords = StopWord.read()\n",
    "StopWords = StopWords.replace('\\n', ' ')\n"
   ]
  },
  {
   "cell_type": "code",
   "execution_count": 22,
   "metadata": {},
   "outputs": [],
   "source": [
    "def remove_stop_words_stem_words(data):\n",
    "       file_clean_k =pd.DataFrame()\n",
    "       for index,entry in enumerate(data):\n",
    "           Final_words = []\n",
    "           stemmer = SnowballStemmer('arabic')\n",
    "           for word, tag in pos_tag(entry):\n",
    "               if word not in StopWords:\n",
    "                   word_Final = stemmer.stem(word)\n",
    "                   Final_words.append(word_Final)\n",
    "                   file_clean_k.loc[index,'Keyword_final'] = str(Final_words)\n",
    "       return file_clean_k"
   ]
  },
  {
   "cell_type": "code",
   "execution_count": 23,
   "metadata": {
    "colab": {
     "base_uri": "https://localhost:8080/",
     "height": 424
    },
    "id": "_L9-6ZvXAFKz",
    "outputId": "76ec174d-c324-42df-df25-c388d7ff32a1"
   },
   "outputs": [],
   "source": [
    "df_clean = remove_stop_words_stem_words(NewsData['Word tokenize']) "
   ]
  },
  {
   "cell_type": "code",
   "execution_count": 24,
   "metadata": {
    "id": "-hJnOenYAI8C"
   },
   "outputs": [],
   "source": [
    "df_clean=df_clean.replace(to_replace =\"\\[.\", value = '', regex = True)\n",
    "df_clean=df_clean.replace(to_replace =\"'\", value = '', regex = True)\n",
    "df_clean=df_clean.replace(to_replace =\" \", value = '', regex = True)\n",
    "df_clean=df_clean.replace(to_replace ='\\]', value = '', regex = True)"
   ]
  },
  {
   "cell_type": "code",
   "execution_count": 25,
   "metadata": {
    "id": "JAG4LAHGL-3H"
   },
   "outputs": [],
   "source": [
    "df_clean = df_clean.reset_index()\n"
   ]
  },
  {
   "cell_type": "code",
   "execution_count": 26,
   "metadata": {
    "colab": {
     "base_uri": "https://localhost:8080/",
     "height": 468
    },
    "id": "WzZbYo8GAfJn",
    "outputId": "dd3875ce-bc0d-481d-9a12-85db0331cee6"
   },
   "outputs": [],
   "source": [
    "NewsData.insert(loc=3, column='Clean_Keyword', value=df_clean['Keyword_final'].tolist())\n"
   ]
  },
  {
   "cell_type": "code",
   "execution_count": 27,
   "metadata": {},
   "outputs": [
    {
     "data": {
      "text/plain": [
       "'كشف,ام,ترب,تعليم,للشء,مال,ادار,دكتور,نجوى,قبيل,طلب,سيناريوه,مقترح,تثب,توق,صيف,طوال,عام,قدم,وزار,سيناريوه,شرح,قبيل,حسنى,طبيع,دوام,فتر,مقبل,تثب,توق,صيف,طوال,عام,يبدء,دوام,مدارس,توق,جديد,احد,موافق,وين,احد,موافق,يبدء,طابور,صباح,مدارس,فتر,واحد,الغ,نسب,تبدء,الحص,اولى,ومد,الحص,دقيق,وين,دوام,انتهاء,حصص,صفوف,وفق,قبيل,يبدء,طابور,صباح,مدارس,فترت,تبدء,الحص,اولى,وتم,تخفيض,الحص,تصبح,دقيق,وين,دوام,فتر,اولى,وين,دوام,فتر,مساء,غروب,شمس,سيتم,ابواب,مدارس,استقبال,طلب,علم,مدارس,نظام,فترت,دراسيت,مدرس,نوه,قبيل,جود,فتر,امتحان,شهر,اول,يبدء,امتح,تاسع,عاشر,لمد,ساع,وذل,دوام,فتر,سيك,اغلب,طلب,منازل,بوق,ظهير,تبدء,عطل,شتو,تمتد,جلس,عقد,اربعاء,تثب,ب,توق,صيف,طوال,عام,جاء,قرار,دراس,مستفيض,اجر,حكوم,وقوف,جدوى,تثب,توق,صيف,وفق,جاء,قرار,ادى,تعديل,دوام,مدارس,فتر,صباح,والفت,طلب,وزا,ترب,تعليم,تعليم,عال,تعديل,دوام,يتناسب,مواعيد,شروق,شمس'"
      ]
     },
     "execution_count": 27,
     "metadata": {},
     "output_type": "execute_result"
    }
   ],
   "source": [
    "NewsData['Clean_Keyword'][3]"
   ]
  },
  {
   "cell_type": "markdown",
   "metadata": {},
   "source": [
    "# <font color='darkblue'>TFIDF</font> "
   ]
  },
  {
   "cell_type": "code",
   "execution_count": 28,
   "metadata": {
    "colab": {
     "base_uri": "https://localhost:8080/"
    },
    "id": "Bx8JZ9euBHE5",
    "outputId": "07405360-a53d-4561-89ac-ddfbc991cfff"
   },
   "outputs": [],
   "source": [
    "## Create Vocabulary\n",
    "voc = set()\n",
    "\n",
    "for doc in NewsData.Clean_Keyword:\n",
    "    voc.update(doc.split(','))\n",
    "\n",
    "voc = list(voc)\n",
    "\n",
    "# Intializating the tfIdf model\n",
    "tfidf = TfidfVectorizer(vocabulary=voc)\n",
    "\n",
    "# Fit the TfIdf model\n",
    "tfidf.fit(NewsData.Clean_Keyword)\n",
    "\n",
    "# Transform the TfIdf model\n",
    "tfidf_tran=tfidf.transform(NewsData.Clean_Keyword)\n"
   ]
  },
  {
   "cell_type": "code",
   "execution_count": 29,
   "metadata": {
    "id": "N9fffQp2BL1b"
   },
   "outputs": [],
   "source": [
    "def gen_vector_T(tokens):\n",
    "\n",
    "    Q = np.zeros((len(voc)))\n",
    "    \n",
    "    x= tfidf.transform(tokens)\n",
    "    for token in tokens[0].split(','):\n",
    "        try:\n",
    "            ind = voc.index(token)\n",
    "            Q[ind]  = x[0, tfidf.vocabulary_[token]]\n",
    "        except:\n",
    "            pass\n",
    "    return Q"
   ]
  },
  {
   "cell_type": "markdown",
   "metadata": {},
   "source": [
    "# <font color='darkblue'>Cosine Similarity</font> "
   ]
  },
  {
   "cell_type": "code",
   "execution_count": 30,
   "metadata": {
    "id": "CUjHxiH-BL4U"
   },
   "outputs": [],
   "source": [
    "def cosine_sim(a, b):\n",
    "    cos_sim = np.dot(a, b)/(np.linalg.norm(a) * np.linalg.norm(b))\n",
    "    return cos_sim"
   ]
  },
  {
   "cell_type": "code",
   "execution_count": 31,
   "metadata": {},
   "outputs": [],
   "source": [
    "def Search(k, query):\n",
    "      preprocessed_query  = re.sub(\"\\W+\", \" \", query).strip()\n",
    "      tokens = word_tokenize((preprocessed_query))\n",
    "      QueryData = pd.DataFrame(columns=['q_clean'])\n",
    "      QueryData.loc[0,'q_clean'] =tokens\n",
    "      QueryData['q_clean'] =remove_stop_words_stem_words(QueryData['q_clean'])\n",
    "      QueryData=QueryData.replace(to_replace =\"\\[.\", value = '', regex = True)\n",
    "      QueryData=QueryData.replace(to_replace =\"'\", value = '', regex = True)\n",
    "      QueryData=QueryData.replace(to_replace =\" \", value = '', regex = True)\n",
    "      QueryData=QueryData.replace(to_replace ='\\]', value = '', regex = True)\n",
    "\n",
    "      d_cosines = []\n",
    "    \n",
    "      query_vector = gen_vector_T(QueryData['q_clean'])\n",
    "    \n",
    "      for d in tfidf_tran.A:\n",
    "        \n",
    "        \n",
    "          d_cosines.append(cosine_sim(query_vector, d))\n",
    "                    \n",
    "      out = np.array(d_cosines).argsort()[-k:][::-1]\n",
    "      d_cosines.sort()\n",
    "      a = pd.DataFrame()\n",
    "      for i,index in enumerate(out):\n",
    "          a.loc[i,'url'] = NewsData['url'][index]\n",
    "          a.loc[i,'ُTitle'] = NewsData['title'][index]\n",
    "          a.loc[i,'Index'] = str(index)\n",
    "      for j,simScore in enumerate(d_cosines[-k:][::-1]):\n",
    "          a.loc[j,'Score'] = simScore\n",
    "      return a"
   ]
  },
  {
   "cell_type": "code",
   "execution_count": 38,
   "metadata": {
    "colab": {
     "base_uri": "https://localhost:8080/",
     "height": 632
    },
    "id": "VGAcb1J1BTLS",
    "outputId": "792aaf72-b2e4-4531-e1d3-7809947f3f88"
   },
   "outputs": [
    {
     "name": "stdout",
     "output_type": "stream",
     "text": [
      "CPU times: user 196 ms, sys: 93.3 ms, total: 289 ms\n",
      "Wall time: 308 ms\n"
     ]
    },
    {
     "data": {
      "text/html": [
       "<div>\n",
       "<style scoped>\n",
       "    .dataframe tbody tr th:only-of-type {\n",
       "        vertical-align: middle;\n",
       "    }\n",
       "\n",
       "    .dataframe tbody tr th {\n",
       "        vertical-align: top;\n",
       "    }\n",
       "\n",
       "    .dataframe thead th {\n",
       "        text-align: right;\n",
       "    }\n",
       "</style>\n",
       "<table border=\"1\" class=\"dataframe\">\n",
       "  <thead>\n",
       "    <tr style=\"text-align: right;\">\n",
       "      <th></th>\n",
       "      <th>url</th>\n",
       "      <th>ُTitle</th>\n",
       "      <th>Index</th>\n",
       "      <th>Score</th>\n",
       "    </tr>\n",
       "  </thead>\n",
       "  <tbody>\n",
       "    <tr>\n",
       "      <th>0</th>\n",
       "      <td>https://husna.fm/%D8%AD%D8%B3%D9%86%D9%89/%D9%...</td>\n",
       "      <td>استقرار أسعار الذهب في الأردن وازدياد الطلب عل...</td>\n",
       "      <td>3122</td>\n",
       "      <td>0.601359</td>\n",
       "    </tr>\n",
       "    <tr>\n",
       "      <th>1</th>\n",
       "      <td>https://husna.fm/%D8%AD%D8%B3%D9%86%D9%89/%D9%...</td>\n",
       "      <td>أسعار الذهب اليوم في الأردن ترتفع بحدود 40 قرش</td>\n",
       "      <td>3096</td>\n",
       "      <td>0.499780</td>\n",
       "    </tr>\n",
       "    <tr>\n",
       "      <th>2</th>\n",
       "      <td>https://husna.fm/%D8%AD%D8%B3%D9%86%D9%89/%D9%...</td>\n",
       "      <td>أسعار الذهب في الأردن اليوم الأربعاء</td>\n",
       "      <td>3113</td>\n",
       "      <td>0.449976</td>\n",
       "    </tr>\n",
       "    <tr>\n",
       "      <th>3</th>\n",
       "      <td>https://husna.fm/%D8%AD%D8%B3%D9%86%D9%89/%D9%...</td>\n",
       "      <td>انخفاض أسعار الذهب في الأردن الثلاثاء ما بين 1...</td>\n",
       "      <td>3111</td>\n",
       "      <td>0.449440</td>\n",
       "    </tr>\n",
       "    <tr>\n",
       "      <th>4</th>\n",
       "      <td>https://husna.fm/%D8%AD%D8%B3%D9%86%D9%89/%D8%...</td>\n",
       "      <td>أسعار الذهب في الأردن تنخفض ما بين 10 إلى 20 ف...</td>\n",
       "      <td>3073</td>\n",
       "      <td>0.434269</td>\n",
       "    </tr>\n",
       "  </tbody>\n",
       "</table>\n",
       "</div>"
      ],
      "text/plain": [
       "                                                 url  \\\n",
       "0  https://husna.fm/%D8%AD%D8%B3%D9%86%D9%89/%D9%...   \n",
       "1  https://husna.fm/%D8%AD%D8%B3%D9%86%D9%89/%D9%...   \n",
       "2  https://husna.fm/%D8%AD%D8%B3%D9%86%D9%89/%D9%...   \n",
       "3  https://husna.fm/%D8%AD%D8%B3%D9%86%D9%89/%D9%...   \n",
       "4  https://husna.fm/%D8%AD%D8%B3%D9%86%D9%89/%D8%...   \n",
       "\n",
       "                                              ُTitle Index     Score  \n",
       "0  استقرار أسعار الذهب في الأردن وازدياد الطلب عل...  3122  0.601359  \n",
       "1     أسعار الذهب اليوم في الأردن ترتفع بحدود 40 قرش  3096  0.499780  \n",
       "2               أسعار الذهب في الأردن اليوم الأربعاء  3113  0.449976  \n",
       "3  انخفاض أسعار الذهب في الأردن الثلاثاء ما بين 1...  3111  0.449440  \n",
       "4  أسعار الذهب في الأردن تنخفض ما بين 10 إلى 20 ف...  3073  0.434269  "
      ]
     },
     "execution_count": 38,
     "metadata": {},
     "output_type": "execute_result"
    }
   ],
   "source": [
    "%time Search(5,'اسعار الذهب')"
   ]
  },
  {
   "cell_type": "code",
   "execution_count": null,
   "metadata": {},
   "outputs": [],
   "source": []
  }
 ],
 "metadata": {
  "colab": {
   "provenance": []
  },
  "kernelspec": {
   "display_name": "Python 3 (ipykernel)",
   "language": "python",
   "name": "python3"
  },
  "language_info": {
   "codemirror_mode": {
    "name": "ipython",
    "version": 3
   },
   "file_extension": ".py",
   "mimetype": "text/x-python",
   "name": "python",
   "nbconvert_exporter": "python",
   "pygments_lexer": "ipython3",
   "version": "3.10.8"
  },
  "vscode": {
   "interpreter": {
    "hash": "aee8b7b246df8f9039afb4144a1f6fd8d2ca17a180786b69acc140d282b71a49"
   }
  }
 },
 "nbformat": 4,
 "nbformat_minor": 1
}
